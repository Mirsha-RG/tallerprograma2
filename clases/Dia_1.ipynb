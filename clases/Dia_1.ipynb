{
  "nbformat": 4,
  "nbformat_minor": 0,
  "metadata": {
    "colab": {
      "provenance": [],
      "authorship_tag": "ABX9TyMVR++SCtvHNucEWcoJ7laq",
      "include_colab_link": true
    },
    "kernelspec": {
      "name": "python3",
      "display_name": "Python 3"
    },
    "language_info": {
      "name": "python"
    }
  },
  "cells": [
    {
      "cell_type": "markdown",
      "metadata": {
        "id": "view-in-github",
        "colab_type": "text"
      },
      "source": [
        "<a href=\"https://colab.research.google.com/github/Mirsha-RG/tallerprograma2/blob/main/Dia_1.ipynb\" target=\"_parent\"><img src=\"https://colab.research.google.com/assets/colab-badge.svg\" alt=\"Open In Colab\"/></a>"
      ]
    },
    {
      "cell_type": "code",
      "execution_count": 1,
      "metadata": {
        "colab": {
          "base_uri": "https://localhost:8080/"
        },
        "id": "xjvjyZdacxut",
        "outputId": "e0b3d0f1-e64b-4dcd-fc5f-ba53a8c6793e"
      },
      "outputs": [
        {
          "output_type": "stream",
          "name": "stdout",
          "text": [
            "Hola Panchis\n"
          ]
        }
      ],
      "source": [
        "print(\"Hola Panchis\")"
      ]
    },
    {
      "cell_type": "markdown",
      "source": [
        "#cancion\n",
        "\n",
        "[texto del enlace](https://)"
      ],
      "metadata": {
        "id": "t2dMaK_Be__B"
      }
    },
    {
      "cell_type": "code",
      "source": [
        "precio  = 7\n",
        "cantidades = 230\n",
        "costos_totales = 500\n",
        "ingreso = precio*cantidades\n",
        "utilidad = ingreso - costos_totales\n",
        "cu = costos_totales/cantidades\n",
        "cu"
      ],
      "metadata": {
        "colab": {
          "base_uri": "https://localhost:8080/"
        },
        "id": "UXpzMsGxlcAr",
        "outputId": "cf3a7f6d-0a84-4fa5-f5a0-56eff40f05fc"
      },
      "execution_count": 2,
      "outputs": [
        {
          "output_type": "execute_result",
          "data": {
            "text/plain": [
              "2.1739130434782608"
            ]
          },
          "metadata": {},
          "execution_count": 2
        }
      ]
    },
    {
      "cell_type": "code",
      "source": [
        "vi = 70\n",
        "r = 0.14\n",
        "n = 14\n",
        "vf = vi * ((1 + r)**n)\n",
        "vf\n"
      ],
      "metadata": {
        "colab": {
          "base_uri": "https://localhost:8080/"
        },
        "id": "DVLvD_f3nWQC",
        "outputId": "63238575-67ea-4854-f007-bafbf1d381b8"
      },
      "execution_count": 3,
      "outputs": [
        {
          "output_type": "execute_result",
          "data": {
            "text/plain": [
              "438.29443726943794"
            ]
          },
          "metadata": {},
          "execution_count": 3
        }
      ]
    },
    {
      "cell_type": "code",
      "source": [
        "\n",
        "import math"
      ],
      "metadata": {
        "id": "qWMv7YOPtgjX"
      },
      "execution_count": 4,
      "outputs": []
    },
    {
      "cell_type": "markdown",
      "source": [
        "resulta que yo le voy a prestar 60 dólares a a judith a una tasa del 6% mensual pero quiero saber en cuanto tiempo (meses=¿?) me va a a devolver el doble de lo que le presté???"
      ],
      "metadata": {
        "id": "Qljy3gRdu0SO"
      }
    },
    {
      "cell_type": "code",
      "source": [
        "LAMBDA  = 2\n",
        "r = 0.06\n",
        "math.log(LAMBDA)/ math.log(1 + r)"
      ],
      "metadata": {
        "colab": {
          "base_uri": "https://localhost:8080/"
        },
        "id": "GBe3mvDzp_pC",
        "outputId": "1d73032f-09f0-4850-8a32-af2c35240aaf"
      },
      "execution_count": 5,
      "outputs": [
        {
          "output_type": "execute_result",
          "data": {
            "text/plain": [
              "11.895661045941875"
            ]
          },
          "metadata": {},
          "execution_count": 5
        }
      ]
    },
    {
      "cell_type": "code",
      "source": [
        "nacimiento = 1998\n",
        "actual = 2025\n",
        "edad = actual - nacimiento\n",
        "if edad > 30:\n",
        "  print(\"milenial, edad\")\n",
        "else:\n",
        " print(\"gen z\", edad)"
      ],
      "metadata": {
        "colab": {
          "base_uri": "https://localhost:8080/"
        },
        "id": "WTVRsFJxwGM8",
        "outputId": "a5fd15ed-8f3a-437c-b948-4136801c7e50"
      },
      "execution_count": 6,
      "outputs": [
        {
          "output_type": "stream",
          "name": "stdout",
          "text": [
            "gen z 27\n"
          ]
        }
      ]
    },
    {
      "cell_type": "code",
      "source": [
        "peso = [3.1, 2.8, 2.7, 3.5]\n",
        "\n",
        "peso[2]"
      ],
      "metadata": {
        "colab": {
          "base_uri": "https://localhost:8080/"
        },
        "id": "dNddFZ3xwlcw",
        "outputId": "b8e89f53-124f-476b-9328-fecf1554f284"
      },
      "execution_count": 7,
      "outputs": [
        {
          "output_type": "execute_result",
          "data": {
            "text/plain": [
              "2.7"
            ]
          },
          "metadata": {},
          "execution_count": 7
        }
      ]
    },
    {
      "cell_type": "code",
      "source": [
        "peso.append(1.8)\n",
        "peso"
      ],
      "metadata": {
        "colab": {
          "base_uri": "https://localhost:8080/"
        },
        "id": "X9yr1Vu5NVTE",
        "outputId": "073a0419-67f9-4237-ccfe-ac84389684f6"
      },
      "execution_count": 8,
      "outputs": [
        {
          "output_type": "execute_result",
          "data": {
            "text/plain": [
              "[3.1, 2.8, 2.7, 3.5, 1.8]"
            ]
          },
          "metadata": {},
          "execution_count": 8
        }
      ]
    },
    {
      "cell_type": "code",
      "source": [
        "peso.append(True)\n",
        "peso"
      ],
      "metadata": {
        "colab": {
          "base_uri": "https://localhost:8080/"
        },
        "id": "b1-kCfD9OTYq",
        "outputId": "b6fde897-2307-4685-f90b-97d607c46caf"
      },
      "execution_count": 9,
      "outputs": [
        {
          "output_type": "execute_result",
          "data": {
            "text/plain": [
              "[3.1, 2.8, 2.7, 3.5, 1.8, True]"
            ]
          },
          "metadata": {},
          "execution_count": 9
        }
      ]
    },
    {
      "cell_type": "code",
      "source": [
        "for w in peso:\n",
        "  w - 0.3\n",
        "  print(w)"
      ],
      "metadata": {
        "colab": {
          "base_uri": "https://localhost:8080/"
        },
        "id": "1CnqVV5WOYhR",
        "outputId": "b968b676-1bc2-4939-f740-f632f81114e7"
      },
      "execution_count": 10,
      "outputs": [
        {
          "output_type": "stream",
          "name": "stdout",
          "text": [
            "3.1\n",
            "2.8\n",
            "2.7\n",
            "3.5\n",
            "1.8\n",
            "True\n"
          ]
        }
      ]
    },
    {
      "cell_type": "code",
      "source": [
        "for w in peso:\n",
        "  print(w-1)\n",
        "  print(w+3)\n",
        "  print(w+1)"
      ],
      "metadata": {
        "colab": {
          "base_uri": "https://localhost:8080/"
        },
        "id": "C_HLBu0LRag5",
        "outputId": "a2805303-569b-4714-e0e0-269f5f406ce3"
      },
      "execution_count": 11,
      "outputs": [
        {
          "output_type": "stream",
          "name": "stdout",
          "text": [
            "2.1\n",
            "6.1\n",
            "4.1\n",
            "1.7999999999999998\n",
            "5.8\n",
            "3.8\n",
            "1.7000000000000002\n",
            "5.7\n",
            "3.7\n",
            "2.5\n",
            "6.5\n",
            "4.5\n",
            "0.8\n",
            "4.8\n",
            "2.8\n",
            "0\n",
            "4\n",
            "2\n"
          ]
        }
      ]
    },
    {
      "cell_type": "code",
      "source": [
        "actaul = []\n",
        "for w in peso:\n",
        "  actaul.append(w + 1)\n",
        "\n"
      ],
      "metadata": {
        "id": "YsuCLCFxS46r"
      },
      "execution_count": 12,
      "outputs": []
    },
    {
      "cell_type": "code",
      "source": [
        "for num in list(range(10)):\n",
        "  print(num-3)\n",
        "  if num == 6:\n",
        "    print(\"six\")\n"
      ],
      "metadata": {
        "colab": {
          "base_uri": "https://localhost:8080/"
        },
        "id": "qmlI2YeDUX6z",
        "outputId": "541b38e4-0528-45be-f415-286c2d3962ce"
      },
      "execution_count": 13,
      "outputs": [
        {
          "output_type": "stream",
          "name": "stdout",
          "text": [
            "-3\n",
            "-2\n",
            "-1\n",
            "0\n",
            "1\n",
            "2\n",
            "3\n",
            "six\n",
            "4\n",
            "5\n",
            "6\n"
          ]
        }
      ]
    },
    {
      "cell_type": "code",
      "source": [
        "for n in range(6, 23):\n",
        "  print (n)\n",
        "  if n % 2 == 0:\n",
        "    print(\"par\")"
      ],
      "metadata": {
        "colab": {
          "base_uri": "https://localhost:8080/"
        },
        "collapsed": true,
        "id": "RFyCIZHDYYdT",
        "outputId": "895cf80a-8473-40d0-dfb8-a867805fedcb"
      },
      "execution_count": 14,
      "outputs": [
        {
          "output_type": "stream",
          "name": "stdout",
          "text": [
            "6\n",
            "par\n",
            "7\n",
            "8\n",
            "par\n",
            "9\n",
            "10\n",
            "par\n",
            "11\n",
            "12\n",
            "par\n",
            "13\n",
            "14\n",
            "par\n",
            "15\n",
            "16\n",
            "par\n",
            "17\n",
            "18\n",
            "par\n",
            "19\n",
            "20\n",
            "par\n",
            "21\n",
            "22\n",
            "par\n"
          ]
        }
      ]
    },
    {
      "cell_type": "code",
      "source": [
        "pares = []\n",
        "impar = []\n",
        "\n",
        "for n in range(6, 23):\n",
        "  if n % 2 == 0:\n",
        "    pares.append(n)\n",
        "  else:\n",
        "    impar.append(n)\n",
        "\n",
        "print(pares)\n",
        "print(impar)"
      ],
      "metadata": {
        "colab": {
          "base_uri": "https://localhost:8080/"
        },
        "id": "qT1nkevmas8D",
        "outputId": "5234229b-5bb2-4e7e-bb75-2dede8752d19"
      },
      "execution_count": 15,
      "outputs": [
        {
          "output_type": "stream",
          "name": "stdout",
          "text": [
            "[6, 8, 10, 12, 14, 16, 18, 20, 22]\n",
            "[7, 9, 11, 13, 15, 17, 19, 21]\n"
          ]
        }
      ]
    },
    {
      "cell_type": "code",
      "source": [
        "datos  = [0, 3, 4, 1]\n",
        "acum = 0\n",
        "conteo = 0\n",
        "for i in datos:\n",
        "  acum = acum + i\n",
        "  conteo = conteo + 1\n",
        "acum/conteo\n"
      ],
      "metadata": {
        "colab": {
          "base_uri": "https://localhost:8080/"
        },
        "id": "whvqS7WwZi3E",
        "outputId": "77c40540-ae67-42c1-ac7b-7de41f6d64b6"
      },
      "execution_count": 16,
      "outputs": [
        {
          "output_type": "execute_result",
          "data": {
            "text/plain": [
              "2.0"
            ]
          },
          "metadata": {},
          "execution_count": 16
        }
      ]
    },
    {
      "cell_type": "code",
      "source": [
        "datos = [2, 6, 19, 20, 5]\n",
        "n = 5\n",
        "\n",
        "if n in datos:\n",
        "  print(True)\n",
        "\n",
        "else:\n",
        "  print (False)\n"
      ],
      "metadata": {
        "colab": {
          "base_uri": "https://localhost:8080/"
        },
        "id": "V1lon2fDocFm",
        "outputId": "171bed6a-5544-4c6a-b29e-809284eefe5a"
      },
      "execution_count": 17,
      "outputs": [
        {
          "output_type": "stream",
          "name": "stdout",
          "text": [
            "True\n"
          ]
        }
      ]
    },
    {
      "cell_type": "code",
      "source": [
        "lista=[1,23,3,4,23]\n",
        "n=9\n",
        "\n",
        "flag=0\n",
        "for i in lista:\n",
        "   if i == n :\n",
        "    flag +=1\n",
        "\n",
        "if flag >= 1 :\n",
        " print(f\"El numero {n} esta en  la lista y tiene {flag} coincidencias\")\n",
        "else:\n",
        " print(f\"EL numero {n} no esta en la lista\")"
      ],
      "metadata": {
        "colab": {
          "base_uri": "https://localhost:8080/"
        },
        "id": "12_PpfjwrYbY",
        "outputId": "e40c26d2-c900-41b2-de57-9a52a8ffba36"
      },
      "execution_count": 18,
      "outputs": [
        {
          "output_type": "stream",
          "name": "stdout",
          "text": [
            "EL numero 9 no esta en la lista\n"
          ]
        }
      ]
    },
    {
      "cell_type": "code",
      "source": [
        "total = 0\n",
        "for n in range(10):\n",
        "  total += n\n",
        "  print(total)\n",
        "print(total)"
      ],
      "metadata": {
        "colab": {
          "base_uri": "https://localhost:8080/"
        },
        "id": "-XkwjAJNphpv",
        "outputId": "a2794d9a-21e5-4eeb-d572-3c557cc65ad0"
      },
      "execution_count": 19,
      "outputs": [
        {
          "output_type": "stream",
          "name": "stdout",
          "text": [
            "0\n",
            "1\n",
            "3\n",
            "6\n",
            "10\n",
            "15\n",
            "21\n",
            "28\n",
            "36\n",
            "45\n",
            "45\n"
          ]
        }
      ]
    },
    {
      "cell_type": "code",
      "source": [
        "total = 1\n",
        "for n in range(1, 10):\n",
        "  total *= n\n",
        "  print(total)\n",
        "\n",
        "print(total)"
      ],
      "metadata": {
        "colab": {
          "base_uri": "https://localhost:8080/"
        },
        "id": "fFZpw3jyv4aC",
        "outputId": "4a76a380-7112-4d47-fe8e-82f4b2d25763"
      },
      "execution_count": 20,
      "outputs": [
        {
          "output_type": "stream",
          "name": "stdout",
          "text": [
            "1\n",
            "2\n",
            "6\n",
            "24\n",
            "120\n",
            "720\n",
            "5040\n",
            "40320\n",
            "362880\n",
            "362880\n"
          ]
        }
      ]
    },
    {
      "cell_type": "code",
      "source": [
        "n = 10\n",
        "factorial = 1\n",
        "for i in range (n):\n",
        "  factorial *= i+1\n",
        "print(factorial)"
      ],
      "metadata": {
        "id": "VGiw64HLz6XZ",
        "colab": {
          "base_uri": "https://localhost:8080/"
        },
        "outputId": "9dc0440b-2461-44ac-beb1-fa583fe6d426"
      },
      "execution_count": 21,
      "outputs": [
        {
          "output_type": "stream",
          "name": "stdout",
          "text": [
            "3628800\n"
          ]
        }
      ]
    },
    {
      "cell_type": "code",
      "source": [
        "n = 20\n",
        "primo = True\n",
        "\n",
        "if n/n >= 1:\n",
        "  primo = False\n",
        "\n",
        "else:\n",
        "  print(\"El numero no es primo\")\n"
      ],
      "metadata": {
        "id": "9eI2zXFfyHPI"
      },
      "execution_count": 22,
      "outputs": []
    },
    {
      "cell_type": "code",
      "source": [
        "i = 31\n",
        "divisible = 0\n",
        "for numero in range(1, (i+1)):\n",
        "  if i % numero == 0:\n",
        "    divisible = divisible + 1\n",
        "\n",
        "if divisible > 2:\n",
        "  print('no es primo')\n",
        "else:\n",
        "  print('si es primo')"
      ],
      "metadata": {
        "colab": {
          "base_uri": "https://localhost:8080/"
        },
        "id": "9hK3bO-s2Ohx",
        "outputId": "30cd6e02-fed8-4b3c-ae6a-540537f88355"
      },
      "execution_count": 23,
      "outputs": [
        {
          "output_type": "stream",
          "name": "stdout",
          "text": [
            "si es primo\n"
          ]
        }
      ]
    },
    {
      "cell_type": "code",
      "source": [
        "num = 13\n",
        "\n",
        "while num != 1:\n",
        "  print(num)\n",
        "  if num % 2 == 0:\n",
        "    num = num / 2\n",
        "  else:\n",
        "    num = num * 3 + 1\n",
        "\n",
        "print(num)"
      ],
      "metadata": {
        "colab": {
          "base_uri": "https://localhost:8080/"
        },
        "id": "w6ynI4re48ha",
        "outputId": "7d094cb8-434c-4c4b-a5b9-47ccb9911555"
      },
      "execution_count": 24,
      "outputs": [
        {
          "output_type": "stream",
          "name": "stdout",
          "text": [
            "13\n",
            "40\n",
            "20.0\n",
            "10.0\n",
            "5.0\n",
            "16.0\n",
            "8.0\n",
            "4.0\n",
            "2.0\n",
            "1.0\n"
          ]
        }
      ]
    },
    {
      "cell_type": "code",
      "source": [
        "n = 111\n",
        "\n",
        "while n != 1:\n",
        "    if n % 2 == 0:\n",
        "        n = n // 2\n",
        "        print(n)\n",
        "    else:\n",
        "        n = 3 * n + 1\n",
        "\n",
        "print(n)\n",
        "\n",
        "\n",
        "\n"
      ],
      "metadata": {
        "colab": {
          "base_uri": "https://localhost:8080/"
        },
        "id": "ZiKGAuks5yGT",
        "outputId": "aeef1f3c-ff96-4eff-c3c5-fadcb2b5dbb3"
      },
      "execution_count": 25,
      "outputs": [
        {
          "output_type": "stream",
          "name": "stdout",
          "text": [
            "167\n",
            "251\n",
            "377\n",
            "566\n",
            "283\n",
            "425\n",
            "638\n",
            "319\n",
            "479\n",
            "719\n",
            "1079\n",
            "1619\n",
            "2429\n",
            "3644\n",
            "1822\n",
            "911\n",
            "1367\n",
            "2051\n",
            "3077\n",
            "4616\n",
            "2308\n",
            "1154\n",
            "577\n",
            "866\n",
            "433\n",
            "650\n",
            "325\n",
            "488\n",
            "244\n",
            "122\n",
            "61\n",
            "92\n",
            "46\n",
            "23\n",
            "35\n",
            "53\n",
            "80\n",
            "40\n",
            "20\n",
            "10\n",
            "5\n",
            "8\n",
            "4\n",
            "2\n",
            "1\n",
            "1\n"
          ]
        }
      ]
    }
  ]
}