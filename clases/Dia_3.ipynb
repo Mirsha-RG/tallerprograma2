{
  "nbformat": 4,
  "nbformat_minor": 0,
  "metadata": {
    "colab": {
      "provenance": [],
      "authorship_tag": "ABX9TyPkMufqF7JwrsTyYtmWxyCL",
      "include_colab_link": true
    },
    "kernelspec": {
      "name": "python3",
      "display_name": "Python 3"
    },
    "language_info": {
      "name": "python"
    }
  },
  "cells": [
    {
      "cell_type": "markdown",
      "metadata": {
        "id": "view-in-github",
        "colab_type": "text"
      },
      "source": [
        "<a href=\"https://colab.research.google.com/github/Mirsha-RG/tallerprograma2/blob/main/Dia_3.ipynb\" target=\"_parent\"><img src=\"https://colab.research.google.com/assets/colab-badge.svg\" alt=\"Open In Colab\"/></a>"
      ]
    },
    {
      "cell_type": "code",
      "execution_count": 5,
      "metadata": {
        "id": "vX2Jyk0S5y29"
      },
      "outputs": [],
      "source": [
        "import numpy as np"
      ]
    },
    {
      "cell_type": "code",
      "source": [
        "# ESTE PROGRAMA INFORMÁTICO TIENE UN EQUIVALENTE MATEMÁTICO\n",
        "# BINOMIAL!!\n",
        "trials = 100000\n",
        "k = 50\n",
        "lanzaminetos = 100\n",
        "counter = 0\n",
        "for _ in range(trials):\n",
        "  if np.random.choice([0,1], lanzaminetos).sum() == k:\n",
        "    counter = counter + 1"
      ],
      "metadata": {
        "id": "Z4DN3xPP6ARs"
      },
      "execution_count": 6,
      "outputs": []
    },
    {
      "cell_type": "code",
      "source": [
        "(counter/trials)*100"
      ],
      "metadata": {
        "colab": {
          "base_uri": "https://localhost:8080/"
        },
        "id": "VcZsNJzW6AYy",
        "outputId": "7d4dca7c-b387-4483-c361-3b4c4fe7aae8"
      },
      "execution_count": 7,
      "outputs": [
        {
          "output_type": "execute_result",
          "data": {
            "text/plain": [
              "7.867"
            ]
          },
          "metadata": {},
          "execution_count": 7
        }
      ]
    },
    {
      "cell_type": "code",
      "source": [
        "from scipy.stats import binom"
      ],
      "metadata": {
        "id": "w5SeRow86BUM"
      },
      "execution_count": 8,
      "outputs": []
    },
    {
      "cell_type": "code",
      "source": [
        "binom.pmf(3, 20, 0.5)"
      ],
      "metadata": {
        "colab": {
          "base_uri": "https://localhost:8080/"
        },
        "id": "gBSG2u3-6BXi",
        "outputId": "ad656437-941d-404f-8ca1-834c34b4408c"
      },
      "execution_count": 9,
      "outputs": [
        {
          "output_type": "execute_result",
          "data": {
            "text/plain": [
              "np.float64(0.0010871887207031228)"
            ]
          },
          "metadata": {},
          "execution_count": 9
        }
      ]
    },
    {
      "cell_type": "code",
      "source": [
        "def factorial(n):\n",
        "  prod = 1\n",
        "  if n == 1:\n",
        "    return 1\n",
        "  else:\n",
        "    for i in range(2, n+1):\n",
        "      prod = prod * i\n",
        "  return prod"
      ],
      "metadata": {
        "id": "imEwWGWW6Bc1"
      },
      "execution_count": 10,
      "outputs": []
    },
    {
      "cell_type": "code",
      "source": [
        "factorial(5)"
      ],
      "metadata": {
        "colab": {
          "base_uri": "https://localhost:8080/"
        },
        "id": "EpDozGMvFD6f",
        "outputId": "e5fac3e2-da9d-4853-dcca-5c356929f070"
      },
      "execution_count": 11,
      "outputs": [
        {
          "output_type": "execute_result",
          "data": {
            "text/plain": [
              "120"
            ]
          },
          "metadata": {},
          "execution_count": 11
        }
      ]
    },
    {
      "cell_type": "code",
      "source": [
        "def permutation(n,k):\n",
        "  num = factorial(n)\n",
        "  den = factorial(n-k)\n",
        "  return num/den\n",
        "\n",
        "def combination(n,k):\n",
        "  return permutation(n,k) / factorial(k)\n",
        "\n",
        "def binomPmf(k, n , Pe):\n",
        "  return combination(n,k) * (Pe**k) * (1 - Pe)**(n-k)"
      ],
      "metadata": {
        "id": "yTCp5k7RFKlW"
      },
      "execution_count": 12,
      "outputs": []
    },
    {
      "cell_type": "code",
      "source": [
        "binomPmf(3, 20, 0.5)"
      ],
      "metadata": {
        "colab": {
          "base_uri": "https://localhost:8080/"
        },
        "id": "LvzAZQ2eFKrP",
        "outputId": "d21019cc-fae8-450e-8099-097b344c43cf"
      },
      "execution_count": 13,
      "outputs": [
        {
          "output_type": "execute_result",
          "data": {
            "text/plain": [
              "0.001087188720703125"
            ]
          },
          "metadata": {},
          "execution_count": 13
        }
      ]
    },
    {
      "cell_type": "code",
      "source": [
        "binom.pmf(3, 20, 0.5)"
      ],
      "metadata": {
        "colab": {
          "base_uri": "https://localhost:8080/"
        },
        "id": "Mk7NeAbGFKze",
        "outputId": "71f7e55f-3a64-4cbd-8849-38ff2e629eb4"
      },
      "execution_count": 14,
      "outputs": [
        {
          "output_type": "execute_result",
          "data": {
            "text/plain": [
              "np.float64(0.0010871887207031228)"
            ]
          },
          "metadata": {},
          "execution_count": 14
        }
      ]
    }
  ]
}