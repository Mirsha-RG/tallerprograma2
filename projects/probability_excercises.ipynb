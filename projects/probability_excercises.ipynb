{
  "nbformat": 4,
  "nbformat_minor": 0,
  "metadata": {
    "colab": {
      "provenance": [],
      "authorship_tag": "ABX9TyNy0PkB5sEg3Nk3fWUK6V0T",
      "include_colab_link": true
    },
    "kernelspec": {
      "name": "python3",
      "display_name": "Python 3"
    },
    "language_info": {
      "name": "python"
    }
  },
  "cells": [
    {
      "cell_type": "markdown",
      "metadata": {
        "id": "view-in-github",
        "colab_type": "text"
      },
      "source": [
        "<a href=\"https://colab.research.google.com/github/Mirsha-RG/tallerprograma2/blob/projects/probability_excercises.ipynb\" target=\"_parent\"><img src=\"https://colab.research.google.com/assets/colab-badge.svg\" alt=\"Open In Colab\"/></a>"
      ]
    },
    {
      "cell_type": "markdown",
      "source": [
        "## Ejercicio 1\n",
        "\n",
        "Dos dados se lanzan una vez y se observa el total obtenido. Usa una simulación para encontrar la probabilidad estimada de que la puntuación sea mayor a 7 o un número par. Una simulación es una repetición del mismo experimento multiples veces para observar su comportamiento:\n",
        "\n",
        "- Ejecuta el experimento 1000 veces (lanza 2 dados 1000 veces, y suma el número de ambos dados).\n",
        "- Lleva ua cuenta de los números y las veces que la suma fue mayor a 7 o un número par.\n",
        "- Divide el número del paso 2 entre el número de iteraciones(1000)."
      ],
      "metadata": {
        "id": "wa3ja7fds6pF"
      }
    },
    {
      "cell_type": "code",
      "source": [
        "import numpy as np\n",
        "\n",
        "caras = [1, 2, 3, 4, 5, 6]\n",
        "trials = 1000\n",
        "contador = 0\n",
        "\n",
        "for i in range(trials):\n",
        "\n",
        "    D1 = np.random.choice(caras)\n",
        "    D2 = np.random.choice(caras)\n",
        "    suma = D1 + D2\n",
        "    par = (D1 % 2 == 0) or (D2 % 2 == 0)\n",
        "\n",
        "    if suma > 7 or par:\n",
        "            contador += 1\n",
        "\n",
        "probabilidad = contador / trials * 100\n",
        "\n",
        "print (trials)\n",
        "print(contador)\n",
        "print (probabilidad)"
      ],
      "metadata": {
        "id": "jTT9Nwb_s_wb"
      },
      "execution_count": null,
      "outputs": []
    },
    {
      "cell_type": "markdown",
      "source": [
        "## Ejercicio 2\n",
        "\n",
        "Una caja contiene 10 bolas blancas, 20 bolas rojas y 30 bolas verdes. Si tomamos 5 bolas de la caja reemplazándolas (tomando una bola, anotando el color y luego regresandola a la caja). Queremos saber la probabilidad de:\n",
        "\n",
        "1. Tomar 3 blancas y 2 rojas.\n",
        "2. Toas todas del mismo color.\n",
        "\n",
        "Ejecuta el experimento 1000 veces y calcula las probabilidades que mencionadas."
      ],
      "metadata": {
        "id": "NvXheMRytDdz"
      }
    },
    {
      "cell_type": "code",
      "source": [
        "import numpy as np\n",
        "import random\n",
        "\n",
        "ball_box = {}\n",
        "\n",
        "# Crea la cajas con las bolas\n",
        "for i in range(60):\n",
        "    if i < 10:\n",
        "        ball_box[i] = \"White\"\n",
        "    elif (i > 9) and (i < 30):\n",
        "        ball_box[i] = \"Red\"\n",
        "    else:\n",
        "        ball_box[i] = \"Green\"\n",
        "\n",
        "print(ball_box)\n",
        "\n",
        "# TODO\n",
        "\n",
        "valores = list(ball_box.values())\n",
        "\n",
        "trials = 1000\n",
        "con_blancasrojas = 0\n",
        "con_mismocolor = 0\n",
        "\n",
        "for _ in range(trials):\n",
        "    tomadas = random.choices(valores, k=5)\n",
        "\n",
        "    blancas = tomadas.count(\"White\")\n",
        "    rojas = tomadas.count(\"Red\")\n",
        "    verdes = tomadas.count(\"Green\")\n",
        "\n",
        "    # prob_1 3 blancas y 2 rojas\n",
        "    if blancas == 3 and rojas ==2:\n",
        "        con_blancasrojas +=1\n",
        "\n",
        "    # prob_2 todas del mismo color\n",
        "    elif blancas == 5 or rojas == 5 or verdes == 5:\n",
        "        con_mismocolor += 1\n",
        "\n",
        "prob_1 = con_blancasrojas / trials * 100\n",
        "prob_2 = con_mismocolor / trials * 100\n",
        "\n",
        "print(prob_1)\n",
        "print(prob_2)"
      ],
      "metadata": {
        "id": "c4g-m4vVtHYR"
      },
      "execution_count": null,
      "outputs": []
    }
  ]
}