{
  "nbformat": 4,
  "nbformat_minor": 0,
  "metadata": {
    "colab": {
      "provenance": [],
      "include_colab_link": true
    },
    "kernelspec": {
      "name": "python3",
      "display_name": "Python 3"
    },
    "language_info": {
      "name": "python"
    }
  },
  "cells": [
    {
      "cell_type": "markdown",
      "metadata": {
        "id": "view-in-github",
        "colab_type": "text"
      },
      "source": [
        "<a href=\"https://colab.research.google.com/github/Mirsha-RG/tallerprograma2/blob/projects/rupert_simulation(ai_page).ipynb\" target=\"_parent\"><img src=\"https://colab.research.google.com/assets/colab-badge.svg\" alt=\"Open In Colab\"/></a>"
      ]
    },
    {
      "cell_type": "code",
      "execution_count": null,
      "metadata": {
        "id": "eVnkYhydpwO4"
      },
      "outputs": [],
      "source": [
        "# Simulation inventory problem"
      ]
    },
    {
      "cell_type": "code",
      "source": [
        "import numpy as np\n",
        "import matplotlib.pyplot as plt"
      ],
      "metadata": {
        "id": "I4WyH9VWtUaY"
      },
      "execution_count": null,
      "outputs": []
    },
    {
      "cell_type": "code",
      "source": [
        "cost  = 0.55\n",
        "price = 1\n",
        "d_min = 60\n",
        "d_max = 100"
      ],
      "metadata": {
        "id": "Eklb4BpfpzrC"
      },
      "execution_count": null,
      "outputs": []
    },
    {
      "cell_type": "code",
      "source": [
        "def profit(q, trials, d_min, d_max, price,cost):\n",
        "  profits = []\n",
        "  for i in range(trials):\n",
        "    d =  np.random.randint(d_min, d_max) # demanda\n",
        "    s =  abs(q - d) # inventario\n",
        "    income  = d*(price - cost) # ingreso total\n",
        "    if q > d:\n",
        "      profits.append( income - (s*(cost - 0.03)) ) # costo directo\n",
        "    else:\n",
        "      profits.append( income - (s*(price-cost))) # costo de oportunidad\n",
        "  return sum(profits)/len(profits)"
      ],
      "metadata": {
        "id": "YUr_7Wq0qbF0"
      },
      "execution_count": null,
      "outputs": []
    },
    {
      "cell_type": "code",
      "source": [
        "expected_profits = []\n",
        "trials  = 100000\n",
        "for q in range(d_min, d_max+1):\n",
        "  expected_profits.append(profit(q=q,\n",
        "                                 trials=trials,\n",
        "                                 d_min=d_min,\n",
        "                                 d_max=d_max,\n",
        "                                 price=price,\n",
        "                                 cost=cost))"
      ],
      "metadata": {
        "id": "iL4eXH6StPEz"
      },
      "execution_count": null,
      "outputs": []
    },
    {
      "cell_type": "code",
      "source": [
        "max_index = np.argmax(expected_profits)\n",
        "print(range(d_min, d_max+1)[max_index] , expected_profits[max_index])"
      ],
      "metadata": {
        "colab": {
          "base_uri": "https://localhost:8080/"
        },
        "id": "ZnCMSi4y483l",
        "outputId": "9a77f31f-b8d9-4aab-e764-ddd6ad2448d9"
      },
      "execution_count": null,
      "outputs": [
        {
          "output_type": "stream",
          "name": "stdout",
          "text": [
            "78 30.950019900031577\n"
          ]
        }
      ]
    },
    {
      "cell_type": "code",
      "source": [
        "expected_profits"
      ],
      "metadata": {
        "colab": {
          "base_uri": "https://localhost:8080/"
        },
        "id": "UylY4z6X5eP3",
        "outputId": "f0c8231c-f141-40fc-9a32-4633575bede5"
      },
      "execution_count": null,
      "outputs": [
        {
          "output_type": "execute_result",
          "data": {
            "text/plain": [
              "[27.0,\n",
              " 27.425973100017814,\n",
              " 27.825620399950736,\n",
              " 28.20653700004592,\n",
              " 28.5553853999773,\n",
              " 28.887869900000236,\n",
              " 29.19077910002182,\n",
              " 29.473172799957794,\n",
              " 29.726893300041993,\n",
              " 29.968226899973065,\n",
              " 30.172749000001158,\n",
              " 30.343262900022232,\n",
              " 30.486316099961563,\n",
              " 30.64505420003813,\n",
              " 30.75997739997456,\n",
              " 30.82698260000218,\n",
              " 30.919295100021415,\n",
              " 30.919874699968133,\n",
              " 30.950019900031577,\n",
              " 30.92548619998036,\n",
              " 30.924756300001118,\n",
              " 30.798702400017902,\n",
              " 30.760627499975044,\n",
              " 30.63271120002313,\n",
              " 30.549385799986776,\n",
              " 30.399916100000237,\n",
              " 30.17802620001156,\n",
              " 29.97994009998198,\n",
              " 29.778594800014222,\n",
              " 29.466475499991862,\n",
              " 29.218638100000053,\n",
              " 28.865866100003938,\n",
              " 28.55899449999132,\n",
              " 28.197376100007723,\n",
              " 27.82013099999589,\n",
              " 27.45044220000129,\n",
              " 27.077823999999133,\n",
              " 26.65423229999563,\n",
              " 26.138354800001768,\n",
              " 25.632827199997884,\n",
              " 25.143731400001858]"
            ]
          },
          "metadata": {},
          "execution_count": 42
        }
      ]
    },
    {
      "cell_type": "code",
      "source": [
        "plt.plot(range(d_min, d_max+1), expected_profits )"
      ],
      "metadata": {
        "colab": {
          "base_uri": "https://localhost:8080/"
        },
        "id": "g1UKrFiSzGCf",
        "outputId": "7656de64-0026-4663-fc02-77d800bc715a"
      },
      "execution_count": null,
      "outputs": [
        {
          "output_type": "execute_result",
          "data": {
            "text/plain": [
              "[<matplotlib.lines.Line2D at 0x7f2044c2b110>]"
            ]
          },
          "metadata": {},
          "execution_count": 43
        },
        {
          "output_type": "display_data",
          "data": {
            "text/plain": [
              "<Figure size 640x480 with 1 Axes>"
            ],
            "image/png": "[encoded data removed]"
          },
          "metadata": {}
        }
      ]
    },
    {
      "cell_type": "code",
      "source": [
        "# 78 -> 30.86\n",
        "# 70 -> 30.142\n",
        "# 90 ->  29.35"
      ],
      "metadata": {
        "id": "-hl5zw0kGGHl"
      },
      "execution_count": null,
      "outputs": []
    },
    {
      "cell_type": "code",
      "source": [
        "q = 78\n",
        "profits  = []\n",
        "for _ in range(1000000):\n",
        "  d =  np.random.randint(d_min, d_max) # demanda\n",
        "  s =  abs(q - d) # inventario\n",
        "  income  = d*(price - cost) # ingreso total\n",
        "  if q > d:\n",
        "    profits.append( income - (s*(cost - 0.03)) ) # costo directo\n",
        "  else:\n",
        "    profits.append( income - (s*(price-cost))) # costo de oportunidad\n",
        "sum(profits)/len(profits)"
      ],
      "metadata": {
        "colab": {
          "base_uri": "https://localhost:8080/"
        },
        "id": "bfu9e5wRFhNW",
        "outputId": "322d4a13-fd09-45a5-d422-eeb9a146b337"
      },
      "execution_count": null,
      "outputs": [
        {
          "output_type": "execute_result",
          "data": {
            "text/plain": [
              "30.95555666025972"
            ]
          },
          "metadata": {},
          "execution_count": 45
        }
      ]
    },
    {
      "cell_type": "code",
      "source": [
        "from scipy.stats import binom\n"
      ],
      "metadata": {
        "id": "uOu3tLkzF9aU"
      },
      "execution_count": null,
      "outputs": []
    },
    {
      "cell_type": "code",
      "source": [
        "# k - éxitos\n",
        "# n - ensayos\n",
        "# p - success proba\n",
        "binom.pmf(50,100,0.5)"
      ],
      "metadata": {
        "colab": {
          "base_uri": "https://localhost:8080/"
        },
        "id": "gweYgPHBPdeX",
        "outputId": "9573f967-d0b7-4012-f522-c582c00fbc96"
      },
      "execution_count": null,
      "outputs": [
        {
          "output_type": "execute_result",
          "data": {
            "text/plain": [
              "np.float64(0.07958923738717875)"
            ]
          },
          "metadata": {},
          "execution_count": 47
        }
      ]
    },
    {
      "cell_type": "code",
      "source": [
        "binom.cdf(50, 100, 0.5)"
      ],
      "metadata": {
        "id": "pQBGDHgWQEH4",
        "outputId": "443fe237-e2ec-4065-a819-a6df96065891",
        "colab": {
          "base_uri": "https://localhost:8080/"
        }
      },
      "execution_count": null,
      "outputs": [
        {
          "output_type": "execute_result",
          "data": {
            "text/plain": [
              "np.float64(0.5397946186935895)"
            ]
          },
          "metadata": {},
          "execution_count": 48
        }
      ]
    }
  ]
}