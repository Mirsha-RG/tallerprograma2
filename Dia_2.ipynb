{
  "nbformat": 4,
  "nbformat_minor": 0,
  "metadata": {
    "colab": {
      "provenance": [],
      "authorship_tag": "ABX9TyMCey11CZppHPwJuEmA2WRa",
      "include_colab_link": true
    },
    "kernelspec": {
      "name": "python3",
      "display_name": "Python 3"
    },
    "language_info": {
      "name": "python"
    }
  },
  "cells": [
    {
      "cell_type": "markdown",
      "metadata": {
        "id": "view-in-github",
        "colab_type": "text"
      },
      "source": [
        "<a href=\"https://colab.research.google.com/github/Mirsha-RG/tallerprograma2/blob/main/Dia_2.ipynb\" target=\"_parent\"><img src=\"https://colab.research.google.com/assets/colab-badge.svg\" alt=\"Open In Colab\"/></a>"
      ]
    },
    {
      "cell_type": "code",
      "execution_count": null,
      "metadata": {
        "id": "cGrlC15MYdCC"
      },
      "outputs": [],
      "source": [
        "walker  = 0\n",
        "while walker < 8:\n",
        "  print(walker)\n",
        "  walker  = walker + 3\n"
      ]
    },
    {
      "cell_type": "code",
      "source": [
        "target = 100\n",
        "acum = 0\n",
        "\n",
        "for x in range(10):\n",
        "  acum = acum +10\n",
        "  print(acum)"
      ],
      "metadata": {
        "colab": {
          "base_uri": "https://localhost:8080/"
        },
        "id": "fBFMwX_tcG_E",
        "outputId": "6852af20-1c39-43ba-b50b-f0b9e1dceea2"
      },
      "execution_count": 10,
      "outputs": [
        {
          "output_type": "stream",
          "name": "stdout",
          "text": [
            "10\n",
            "20\n",
            "30\n",
            "40\n",
            "50\n",
            "60\n",
            "70\n",
            "80\n",
            "90\n",
            "100\n"
          ]
        }
      ]
    },
    {
      "cell_type": "code",
      "source": [
        "acum = 0\n",
        "counter = 0\n",
        "while acum < 100:\n",
        "  acum = acum + 100\n",
        "  counter = counter +1\n",
        "print(acum, 'iteraciones:',counter)"
      ],
      "metadata": {
        "id": "8KdBkrllfEC7"
      },
      "execution_count": null,
      "outputs": []
    },
    {
      "cell_type": "code",
      "source": [
        "song = {'la diferencia':'juan gabriel', 'el ausente':'antonio aguilar', 'dos pasajes':'lupe y polo'}"
      ],
      "metadata": {
        "id": "4kHJOCdTc1lZ"
      },
      "execution_count": 11,
      "outputs": []
    },
    {
      "cell_type": "code",
      "source": [
        "for i in song:\n",
        "  print(i)\n",
        "  print(song[i])"
      ],
      "metadata": {
        "colab": {
          "base_uri": "https://localhost:8080/"
        },
        "id": "EzJ3euLxfIr6",
        "outputId": "0aa703b4-c598-4bf5-bc3f-e370cf858991"
      },
      "execution_count": 12,
      "outputs": [
        {
          "output_type": "stream",
          "name": "stdout",
          "text": [
            "la diferencia\n",
            "juan gabriel\n",
            "el ausente\n",
            "antonio aguilar\n",
            "dos pasajes\n",
            "lupe y polo\n"
          ]
        }
      ]
    },
    {
      "cell_type": "code",
      "source": [
        "from ast import Lambda\n",
        "import math\n",
        "LAMBDA = 3\n",
        "r = 3.2\n",
        "\n",
        "math.log(LAMBDA)/math.log(1 + r)\n"
      ],
      "metadata": {
        "colab": {
          "base_uri": "https://localhost:8080/"
        },
        "id": "mXQk1dJEfviB",
        "outputId": "63f9f3ff-b666-4d22-d6ef-23b6628f838f"
      },
      "execution_count": 14,
      "outputs": [
        {
          "output_type": "execute_result",
          "data": {
            "text/plain": [
              "0.7655383841914274"
            ]
          },
          "metadata": {},
          "execution_count": 14
        }
      ]
    },
    {
      "cell_type": "code",
      "source": [
        "def circle(x, y):\n",
        "  return (x**2) + (y**2)"
      ],
      "metadata": {
        "id": "gjG4lXGFkzfL"
      },
      "execution_count": 15,
      "outputs": []
    },
    {
      "cell_type": "code",
      "source": [
        "circle(10, 4)"
      ],
      "metadata": {
        "colab": {
          "base_uri": "https://localhost:8080/"
        },
        "id": "P5V--7otlA36",
        "outputId": "91d1f4c0-b52b-4c5b-82ff-7a9b0500df2b"
      },
      "execution_count": 18,
      "outputs": [
        {
          "output_type": "execute_result",
          "data": {
            "text/plain": [
              "116"
            ]
          },
          "metadata": {},
          "execution_count": 18
        }
      ]
    },
    {
      "cell_type": "code",
      "source": [
        "def growht(vi, vf):\n",
        "\n",
        "  return ((vf - vi) / vi) * 100\n",
        "\n"
      ],
      "metadata": {
        "id": "AZoFVfjvlPsr"
      },
      "execution_count": 30,
      "outputs": []
    },
    {
      "cell_type": "code",
      "source": [
        "growht(1000, 1200)"
      ],
      "metadata": {
        "colab": {
          "base_uri": "https://localhost:8080/"
        },
        "id": "AfVVQSx8oAps",
        "outputId": "d70bdd55-8663-4c04-8e62-03e6e3804040"
      },
      "execution_count": 33,
      "outputs": [
        {
          "output_type": "execute_result",
          "data": {
            "text/plain": [
              "20.0"
            ]
          },
          "metadata": {},
          "execution_count": 33
        }
      ]
    },
    {
      "cell_type": "code",
      "source": [
        "def factorial(n):\n",
        "  prod = 1\n",
        "  for n in range (2, n+1):\n",
        "    prod = prod * n\n",
        "    return prod"
      ],
      "metadata": {
        "id": "LyrbRbOeqUqc"
      },
      "execution_count": 1,
      "outputs": []
    },
    {
      "cell_type": "code",
      "source": [
        "import math\n",
        "\n",
        "def paradoja(k, d=365):\n",
        "    prob_diferentes = 1.0\n",
        "\n",
        "    for n in range(d - k + 1, d + 1):\n",
        "        prob_diferentes *= n / d\n",
        "    return 1 - prob_diferentes"
      ],
      "metadata": {
        "id": "sYc4pTL8ytIK"
      },
      "execution_count": 15,
      "outputs": []
    },
    {
      "cell_type": "code",
      "source": [
        "paradoja(2)\n"
      ],
      "metadata": {
        "colab": {
          "base_uri": "https://localhost:8080/",
          "height": 147
        },
        "id": "fKnYa3rSyuTR",
        "outputId": "29da444b-12cc-4b67-aa44-eda35e72766d"
      },
      "execution_count": 1,
      "outputs": [
        {
          "output_type": "error",
          "ename": "NameError",
          "evalue": "name 'paradoja' is not defined",
          "traceback": [
            "\u001b[0;31m---------------------------------------------------------------------------\u001b[0m",
            "\u001b[0;31mNameError\u001b[0m                                 Traceback (most recent call last)",
            "\u001b[0;32m<ipython-input-1-1288242818>\u001b[0m in \u001b[0;36m<cell line: 0>\u001b[0;34m()\u001b[0m\n\u001b[0;32m----> 1\u001b[0;31m \u001b[0mparadoja\u001b[0m\u001b[0;34m(\u001b[0m\u001b[0;36m2\u001b[0m\u001b[0;34m)\u001b[0m\u001b[0;34m\u001b[0m\u001b[0;34m\u001b[0m\u001b[0m\n\u001b[0m",
            "\u001b[0;31mNameError\u001b[0m: name 'paradoja' is not defined"
          ]
        }
      ]
    },
    {
      "cell_type": "code",
      "source": [],
      "metadata": {
        "id": "YWsnHpFv5VAD"
      },
      "execution_count": null,
      "outputs": []
    },
    {
      "cell_type": "code",
      "source": [
        "import numpy as np"
      ],
      "metadata": {
        "id": "kut3KM_94c7y"
      },
      "execution_count": 2,
      "outputs": []
    },
    {
      "cell_type": "code",
      "source": [
        "# ESTE PROGRAMA INFORMÁTICO TIENE UN EQUIVALENTE MATEMÁTICO\n",
        "# BINOMIAL!!\n",
        "trials = 100000\n",
        "k = 50\n",
        "lanzaminetos = 100\n",
        "counter = 0\n",
        "for _ in range(trials):\n",
        "  if np.random.choice([0,1], lanzaminetos).sum() == k:\n",
        "    counter = counter + 1"
      ],
      "metadata": {
        "id": "VzGJQEKg4dI3"
      },
      "execution_count": 4,
      "outputs": []
    },
    {
      "cell_type": "code",
      "source": [
        "(counter/trials)*100"
      ],
      "metadata": {
        "colab": {
          "base_uri": "https://localhost:8080/"
        },
        "id": "I6reSfpY4kE9",
        "outputId": "40d1562c-a77d-4ba3-bb23-fc7cfc7a806f"
      },
      "execution_count": 6,
      "outputs": [
        {
          "output_type": "execute_result",
          "data": {
            "text/plain": [
              "7.932"
            ]
          },
          "metadata": {},
          "execution_count": 6
        }
      ]
    }
  ]
}